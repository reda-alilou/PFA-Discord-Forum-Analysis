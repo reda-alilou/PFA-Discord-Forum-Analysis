{
 "cells": [
  {
   "cell_type": "markdown",
   "id": "72437fda",
   "metadata": {},
   "source": [
    "### Load and clean"
   ]
  },
  {
   "cell_type": "code",
   "execution_count": 41,
   "id": "7fc4d555",
   "metadata": {},
   "outputs": [
    {
     "data": {
      "text/html": [
       "<div>\n",
       "<style scoped>\n",
       "    .dataframe tbody tr th:only-of-type {\n",
       "        vertical-align: middle;\n",
       "    }\n",
       "\n",
       "    .dataframe tbody tr th {\n",
       "        vertical-align: top;\n",
       "    }\n",
       "\n",
       "    .dataframe thead th {\n",
       "        text-align: right;\n",
       "    }\n",
       "</style>\n",
       "<table border=\"1\" class=\"dataframe\">\n",
       "  <thead>\n",
       "    <tr style=\"text-align: right;\">\n",
       "      <th></th>\n",
       "      <th>question</th>\n",
       "      <th>clean_question</th>\n",
       "    </tr>\n",
       "  </thead>\n",
       "  <tbody>\n",
       "    <tr>\n",
       "      <th>0</th>\n",
       "      <td>I have been attempting to display data from a ...</td>\n",
       "      <td>i have been attempting to display data from a ...</td>\n",
       "    </tr>\n",
       "    <tr>\n",
       "      <th>1</th>\n",
       "      <td>Migration In Progress: EJS  ReactWe're current...</td>\n",
       "      <td>migration in progress ejs reactwere currently ...</td>\n",
       "    </tr>\n",
       "    <tr>\n",
       "      <th>2</th>\n",
       "      <td>Following is my code, it was fine when I looke...</td>\n",
       "      <td>following is my code it was fine when i looked...</td>\n",
       "    </tr>\n",
       "    <tr>\n",
       "      <th>3</th>\n",
       "      <td>Hello! My name is Simon I'm a web developer bu...</td>\n",
       "      <td>hello my name is simon im a web developer but ...</td>\n",
       "    </tr>\n",
       "    <tr>\n",
       "      <th>4</th>\n",
       "      <td>I think that this code is right.What should I do?</td>\n",
       "      <td>i think that this code is rightwhat should i do</td>\n",
       "    </tr>\n",
       "  </tbody>\n",
       "</table>\n",
       "</div>"
      ],
      "text/plain": [
       "                                            question  \\\n",
       "0  I have been attempting to display data from a ...   \n",
       "1  Migration In Progress: EJS  ReactWe're current...   \n",
       "2  Following is my code, it was fine when I looke...   \n",
       "3  Hello! My name is Simon I'm a web developer bu...   \n",
       "4  I think that this code is right.What should I do?   \n",
       "\n",
       "                                      clean_question  \n",
       "0  i have been attempting to display data from a ...  \n",
       "1  migration in progress ejs reactwere currently ...  \n",
       "2  following is my code it was fine when i looked...  \n",
       "3  hello my name is simon im a web developer but ...  \n",
       "4    i think that this code is rightwhat should i do  "
      ]
     },
     "execution_count": 41,
     "metadata": {},
     "output_type": "execute_result"
    }
   ],
   "source": [
    "import pandas as pd\n",
    "import re\n",
    "import string\n",
    "\n",
    "# Load cleaned threads\n",
    "threads_df = pd.read_csv(\"../data/processed/threads_clean.csv\")\n",
    "\n",
    "# Clean function\n",
    "def clean_text(text):\n",
    "    if not isinstance(text, str):\n",
    "        return \"\"\n",
    "    text = text.lower()\n",
    "    text = re.sub(r\"http\\S+|www\\S+|https\\S+\", '', text)  # remove URLs\n",
    "    text = re.sub(r\"@\\w+\", '', text)                     # remove mentions\n",
    "    text = re.sub(r\"[^\\w\\s]\", '', text)                  # remove punctuation\n",
    "    text = re.sub(r\"\\s+\", ' ', text).strip()             # remove extra spaces\n",
    "    return text\n",
    "\n",
    "# Apply cleaning\n",
    "threads_df['clean_question'] = threads_df['question'].apply(clean_text)\n",
    "\n",
    "# Preview\n",
    "threads_df[['question', 'clean_question']].head()"
   ]
  },
  {
   "cell_type": "markdown",
   "id": "5cd374ae",
   "metadata": {},
   "source": [
    "### Tokenization + Stopword Removal"
   ]
  },
  {
   "cell_type": "code",
   "execution_count": 24,
   "id": "629f0a3e",
   "metadata": {},
   "outputs": [
    {
     "name": "stderr",
     "output_type": "stream",
     "text": [
      "[nltk_data] Downloading package punkt to\n",
      "[nltk_data]     C:\\Users\\MSI\\AppData\\Roaming\\nltk_data...\n",
      "[nltk_data]   Package punkt is already up-to-date!\n",
      "[nltk_data] Downloading package stopwords to\n",
      "[nltk_data]     C:\\Users\\MSI\\AppData\\Roaming\\nltk_data...\n",
      "[nltk_data]   Package stopwords is already up-to-date!\n"
     ]
    },
    {
     "data": {
      "text/plain": [
       "True"
      ]
     },
     "execution_count": 24,
     "metadata": {},
     "output_type": "execute_result"
    }
   ],
   "source": [
    "import nltk\n",
    "nltk.download('punkt')\n",
    "nltk.download('stopwords')"
   ]
  },
  {
   "cell_type": "code",
   "execution_count": 42,
   "id": "889821c8",
   "metadata": {},
   "outputs": [
    {
     "data": {
      "text/html": [
       "<div>\n",
       "<style scoped>\n",
       "    .dataframe tbody tr th:only-of-type {\n",
       "        vertical-align: middle;\n",
       "    }\n",
       "\n",
       "    .dataframe tbody tr th {\n",
       "        vertical-align: top;\n",
       "    }\n",
       "\n",
       "    .dataframe thead th {\n",
       "        text-align: right;\n",
       "    }\n",
       "</style>\n",
       "<table border=\"1\" class=\"dataframe\">\n",
       "  <thead>\n",
       "    <tr style=\"text-align: right;\">\n",
       "      <th></th>\n",
       "      <th>clean_question</th>\n",
       "      <th>tokens</th>\n",
       "    </tr>\n",
       "  </thead>\n",
       "  <tbody>\n",
       "    <tr>\n",
       "      <th>0</th>\n",
       "      <td>i have been attempting to display data from a ...</td>\n",
       "      <td>[attempting, display, data, certain, index, js...</td>\n",
       "    </tr>\n",
       "    <tr>\n",
       "      <th>1</th>\n",
       "      <td>migration in progress ejs reactwere currently ...</td>\n",
       "      <td>[migration, progress, ejs, reactwere, currentl...</td>\n",
       "    </tr>\n",
       "    <tr>\n",
       "      <th>2</th>\n",
       "      <td>following is my code it was fine when i looked...</td>\n",
       "      <td>[following, code, fine, looked, nextelement, e...</td>\n",
       "    </tr>\n",
       "    <tr>\n",
       "      <th>3</th>\n",
       "      <td>hello my name is simon im a web developer but ...</td>\n",
       "      <td>[hello, name, simon, im, web, developer, ive, ...</td>\n",
       "    </tr>\n",
       "    <tr>\n",
       "      <th>4</th>\n",
       "      <td>i think that this code is rightwhat should i do</td>\n",
       "      <td>[think, code, rightwhat]</td>\n",
       "    </tr>\n",
       "  </tbody>\n",
       "</table>\n",
       "</div>"
      ],
      "text/plain": [
       "                                      clean_question  \\\n",
       "0  i have been attempting to display data from a ...   \n",
       "1  migration in progress ejs reactwere currently ...   \n",
       "2  following is my code it was fine when i looked...   \n",
       "3  hello my name is simon im a web developer but ...   \n",
       "4    i think that this code is rightwhat should i do   \n",
       "\n",
       "                                              tokens  \n",
       "0  [attempting, display, data, certain, index, js...  \n",
       "1  [migration, progress, ejs, reactwere, currentl...  \n",
       "2  [following, code, fine, looked, nextelement, e...  \n",
       "3  [hello, name, simon, im, web, developer, ive, ...  \n",
       "4                           [think, code, rightwhat]  "
      ]
     },
     "execution_count": 42,
     "metadata": {},
     "output_type": "execute_result"
    }
   ],
   "source": [
    "from nltk.tokenize import word_tokenize\n",
    "from nltk.corpus import stopwords\n",
    "\n",
    "stop_words = set(stopwords.words('english'))\n",
    "\n",
    "# Tokenize and remove stopwords\n",
    "def tokenize_and_filter(text):\n",
    "    tokens = word_tokenize(text)\n",
    "    filtered = [w for w in tokens if w not in stop_words and w.isalpha()]\n",
    "    return filtered\n",
    "\n",
    "threads_df['tokens'] = threads_df['clean_question'].apply(tokenize_and_filter)\n",
    "\n",
    "# Preview\n",
    "threads_df[['clean_question', 'tokens']].head()"
   ]
  },
  {
   "cell_type": "markdown",
   "id": "23aa43b6",
   "metadata": {},
   "source": [
    "### One-time setup"
   ]
  },
  {
   "cell_type": "code",
   "execution_count": 26,
   "id": "120f7810",
   "metadata": {},
   "outputs": [
    {
     "name": "stderr",
     "output_type": "stream",
     "text": [
      "[nltk_data] Downloading package wordnet to\n",
      "[nltk_data]     C:\\Users\\MSI\\AppData\\Roaming\\nltk_data...\n",
      "[nltk_data]   Package wordnet is already up-to-date!\n",
      "[nltk_data] Downloading package omw-1.4 to\n",
      "[nltk_data]     C:\\Users\\MSI\\AppData\\Roaming\\nltk_data...\n",
      "[nltk_data]   Package omw-1.4 is already up-to-date!\n"
     ]
    },
    {
     "data": {
      "text/plain": [
       "True"
      ]
     },
     "execution_count": 26,
     "metadata": {},
     "output_type": "execute_result"
    }
   ],
   "source": [
    "nltk.download('wordnet')\n",
    "nltk.download('omw-1.4')"
   ]
  },
  {
   "cell_type": "markdown",
   "id": "11e54e6b",
   "metadata": {},
   "source": [
    "### Lemmatize Tokens"
   ]
  },
  {
   "cell_type": "code",
   "execution_count": 43,
   "id": "b7f7a4b1",
   "metadata": {},
   "outputs": [
    {
     "data": {
      "text/html": [
       "<div>\n",
       "<style scoped>\n",
       "    .dataframe tbody tr th:only-of-type {\n",
       "        vertical-align: middle;\n",
       "    }\n",
       "\n",
       "    .dataframe tbody tr th {\n",
       "        vertical-align: top;\n",
       "    }\n",
       "\n",
       "    .dataframe thead th {\n",
       "        text-align: right;\n",
       "    }\n",
       "</style>\n",
       "<table border=\"1\" class=\"dataframe\">\n",
       "  <thead>\n",
       "    <tr style=\"text-align: right;\">\n",
       "      <th></th>\n",
       "      <th>tokens</th>\n",
       "      <th>lemmas</th>\n",
       "    </tr>\n",
       "  </thead>\n",
       "  <tbody>\n",
       "    <tr>\n",
       "      <th>0</th>\n",
       "      <td>[attempting, display, data, certain, index, js...</td>\n",
       "      <td>[attempting, display, data, certain, index, js...</td>\n",
       "    </tr>\n",
       "    <tr>\n",
       "      <th>1</th>\n",
       "      <td>[migration, progress, ejs, reactwere, currentl...</td>\n",
       "      <td>[migration, progress, ejs, reactwere, currentl...</td>\n",
       "    </tr>\n",
       "    <tr>\n",
       "      <th>2</th>\n",
       "      <td>[following, code, fine, looked, nextelement, e...</td>\n",
       "      <td>[following, code, fine, looked, nextelement, e...</td>\n",
       "    </tr>\n",
       "    <tr>\n",
       "      <th>3</th>\n",
       "      <td>[hello, name, simon, im, web, developer, ive, ...</td>\n",
       "      <td>[hello, name, simon, im, web, developer, ive, ...</td>\n",
       "    </tr>\n",
       "    <tr>\n",
       "      <th>4</th>\n",
       "      <td>[think, code, rightwhat]</td>\n",
       "      <td>[think, code, rightwhat]</td>\n",
       "    </tr>\n",
       "  </tbody>\n",
       "</table>\n",
       "</div>"
      ],
      "text/plain": [
       "                                              tokens  \\\n",
       "0  [attempting, display, data, certain, index, js...   \n",
       "1  [migration, progress, ejs, reactwere, currentl...   \n",
       "2  [following, code, fine, looked, nextelement, e...   \n",
       "3  [hello, name, simon, im, web, developer, ive, ...   \n",
       "4                           [think, code, rightwhat]   \n",
       "\n",
       "                                              lemmas  \n",
       "0  [attempting, display, data, certain, index, js...  \n",
       "1  [migration, progress, ejs, reactwere, currentl...  \n",
       "2  [following, code, fine, looked, nextelement, e...  \n",
       "3  [hello, name, simon, im, web, developer, ive, ...  \n",
       "4                           [think, code, rightwhat]  "
      ]
     },
     "execution_count": 43,
     "metadata": {},
     "output_type": "execute_result"
    }
   ],
   "source": [
    "from nltk.stem import WordNetLemmatizer\n",
    "\n",
    "lemmatizer = WordNetLemmatizer()\n",
    "\n",
    "def lemmatize_tokens(tokens):\n",
    "    return [lemmatizer.lemmatize(token) for token in tokens]\n",
    "\n",
    "threads_df['lemmas'] = threads_df['tokens'].apply(lemmatize_tokens)\n",
    "\n",
    "# Preview\n",
    "threads_df[['tokens', 'lemmas']].head()"
   ]
  },
  {
   "cell_type": "markdown",
   "id": "e5002540",
   "metadata": {},
   "source": [
    "### TF-IDF Vectorization"
   ]
  },
  {
   "cell_type": "code",
   "execution_count": 44,
   "id": "eb36e576",
   "metadata": {},
   "outputs": [
    {
     "name": "stdout",
     "output_type": "stream",
     "text": [
      "TF-IDF Matrix shape: (1062, 3000)\n"
     ]
    }
   ],
   "source": [
    "from sklearn.feature_extraction.text import TfidfVectorizer\n",
    "\n",
    "# Join lemmas for vectorization\n",
    "threads_df['lemma_text'] = threads_df['lemmas'].apply(lambda tokens: ' '.join(tokens))\n",
    "\n",
    "# TF-IDF setup\n",
    "tfidf = TfidfVectorizer(ngram_range=(1, 2), max_features=3000)  # unigrams + bigrams\n",
    "\n",
    "# Fit and transform\n",
    "X_tfidf = tfidf.fit_transform(threads_df['lemma_text'])\n",
    "\n",
    "# Inspect shape\n",
    "print(\"TF-IDF Matrix shape:\", X_tfidf.shape)"
   ]
  },
  {
   "cell_type": "markdown",
   "id": "f00bf743",
   "metadata": {},
   "source": [
    "## Manual Categorization\n",
    "### Create the CSV for Labeling"
   ]
  },
  {
   "cell_type": "code",
   "execution_count": 45,
   "id": "1194331c",
   "metadata": {},
   "outputs": [
    {
     "name": "stdout",
     "output_type": "stream",
     "text": [
      "File saved to: ../data/manual_labels/questions_to_label.csv\n"
     ]
    }
   ],
   "source": [
    "# Create a folder if it doesn't exist\n",
    "import os\n",
    "os.makedirs(\"../data/manual_labels\", exist_ok=True)\n",
    "\n",
    "# Sample 250 representative questions for labeling\n",
    "label_sample_df = threads_df[['thread_id', 'title', 'question']].sample(250, random_state=42)\n",
    "label_sample_df['category'] = ''  # Empty column for you to fill in\n",
    "\n",
    "# Save to CSV\n",
    "label_sample_df.to_csv(\"../data/manual_labels/questions_to_label.csv\", index=False)\n",
    "print(\"File saved to: ../data/manual_labels/questions_to_label.csv\")"
   ]
  },
  {
   "cell_type": "markdown",
   "id": "9e4c6ba4",
   "metadata": {},
   "source": [
    "### Search for likely Career Advice questions"
   ]
  },
  {
   "cell_type": "code",
   "execution_count": 46,
   "id": "4258cf93",
   "metadata": {},
   "outputs": [
    {
     "data": {
      "text/html": [
       "<div>\n",
       "<style scoped>\n",
       "    .dataframe tbody tr th:only-of-type {\n",
       "        vertical-align: middle;\n",
       "    }\n",
       "\n",
       "    .dataframe tbody tr th {\n",
       "        vertical-align: top;\n",
       "    }\n",
       "\n",
       "    .dataframe thead th {\n",
       "        text-align: right;\n",
       "    }\n",
       "</style>\n",
       "<table border=\"1\" class=\"dataframe\">\n",
       "  <thead>\n",
       "    <tr style=\"text-align: right;\">\n",
       "      <th></th>\n",
       "      <th>thread_id</th>\n",
       "      <th>title</th>\n",
       "      <th>question</th>\n",
       "    </tr>\n",
       "  </thead>\n",
       "  <tbody>\n",
       "    <tr>\n",
       "      <th>393</th>\n",
       "      <td>361</td>\n",
       "      <td>What framework to learn</td>\n",
       "      <td>I want to learn how to make a fullstack websit...</td>\n",
       "    </tr>\n",
       "    <tr>\n",
       "      <th>846</th>\n",
       "      <td>823</td>\n",
       "      <td>who can solve this riddle</td>\n",
       "      <td>You have a linked list of objects. Each object...</td>\n",
       "    </tr>\n",
       "    <tr>\n",
       "      <th>656</th>\n",
       "      <td>289</td>\n",
       "      <td>HELP me I am lost. (Career Advice)</td>\n",
       "      <td>Hey everyone,I'm 24 years old and recently gra...</td>\n",
       "    </tr>\n",
       "    <tr>\n",
       "      <th>412</th>\n",
       "      <td>297</td>\n",
       "      <td>Sections Hide and Unhide</td>\n",
       "      <td>Good day,I'm sorry to bother you, but I really...</td>\n",
       "    </tr>\n",
       "    <tr>\n",
       "      <th>23</th>\n",
       "      <td>53</td>\n",
       "      <td>Resume question</td>\n",
       "      <td>Hey everyone I have been making a static websi...</td>\n",
       "    </tr>\n",
       "    <tr>\n",
       "      <th>699</th>\n",
       "      <td>406</td>\n",
       "      <td>React Bootstrap Pills problem :'</td>\n",
       "      <td>Hi everyone. So I am using React Bootstrap for...</td>\n",
       "    </tr>\n",
       "    <tr>\n",
       "      <th>993</th>\n",
       "      <td>195</td>\n",
       "      <td>Need someone willing to teach me</td>\n",
       "      <td>Hey, I'm new to the boot camp thinking about g...</td>\n",
       "    </tr>\n",
       "    <tr>\n",
       "      <th>827</th>\n",
       "      <td>746</td>\n",
       "      <td>Can't seem to treat an error</td>\n",
       "      <td>This is my catch block:} catch (error) {    co...</td>\n",
       "    </tr>\n",
       "    <tr>\n",
       "      <th>617</th>\n",
       "      <td>187</td>\n",
       "      <td>Where to go from here?</td>\n",
       "      <td>Hello programmers, I am looking for general ad...</td>\n",
       "    </tr>\n",
       "    <tr>\n",
       "      <th>725</th>\n",
       "      <td>501</td>\n",
       "      <td>hi guys, I need some help with deciding betwee...</td>\n",
       "      <td>There is no fast path to learning programming ...</td>\n",
       "    </tr>\n",
       "    <tr>\n",
       "      <th>708</th>\n",
       "      <td>440</td>\n",
       "      <td>Sections Hide and Unhide</td>\n",
       "      <td>Good day,I'm sorry to bother you, but I really...</td>\n",
       "    </tr>\n",
       "    <tr>\n",
       "      <th>682</th>\n",
       "      <td>351</td>\n",
       "      <td>Do i use prisma in my project</td>\n",
       "      <td>i noticed that prisma is required a lot in the...</td>\n",
       "    </tr>\n",
       "    <tr>\n",
       "      <th>446</th>\n",
       "      <td>377</td>\n",
       "      <td>Can a blind person code?</td>\n",
       "      <td>Hi all, i hope everyone is doing well.i have a...</td>\n",
       "    </tr>\n",
       "    <tr>\n",
       "      <th>891</th>\n",
       "      <td>961</td>\n",
       "      <td>why is my react native build failing</td>\n",
       "      <td>i tried to build my react native app to an apk...</td>\n",
       "    </tr>\n",
       "    <tr>\n",
       "      <th>797</th>\n",
       "      <td>674</td>\n",
       "      <td>About the new js(beta) cert</td>\n",
       "      <td>It seems like it helps teach integrating js wi...</td>\n",
       "    </tr>\n",
       "  </tbody>\n",
       "</table>\n",
       "</div>"
      ],
      "text/plain": [
       "     thread_id                                              title  \\\n",
       "393        361                            What framework to learn   \n",
       "846        823                          who can solve this riddle   \n",
       "656        289                 HELP me I am lost. (Career Advice)   \n",
       "412        297                           Sections Hide and Unhide   \n",
       "23          53                                    Resume question   \n",
       "699        406                   React Bootstrap Pills problem :'   \n",
       "993        195                   Need someone willing to teach me   \n",
       "827        746                       Can't seem to treat an error   \n",
       "617        187                             Where to go from here?   \n",
       "725        501  hi guys, I need some help with deciding betwee...   \n",
       "708        440                           Sections Hide and Unhide   \n",
       "682        351                      Do i use prisma in my project   \n",
       "446        377                           Can a blind person code?   \n",
       "891        961               why is my react native build failing   \n",
       "797        674                        About the new js(beta) cert   \n",
       "\n",
       "                                              question  \n",
       "393  I want to learn how to make a fullstack websit...  \n",
       "846  You have a linked list of objects. Each object...  \n",
       "656  Hey everyone,I'm 24 years old and recently gra...  \n",
       "412  Good day,I'm sorry to bother you, but I really...  \n",
       "23   Hey everyone I have been making a static websi...  \n",
       "699  Hi everyone. So I am using React Bootstrap for...  \n",
       "993  Hey, I'm new to the boot camp thinking about g...  \n",
       "827  This is my catch block:} catch (error) {    co...  \n",
       "617  Hello programmers, I am looking for general ad...  \n",
       "725  There is no fast path to learning programming ...  \n",
       "708  Good day,I'm sorry to bother you, but I really...  \n",
       "682  i noticed that prisma is required a lot in the...  \n",
       "446  Hi all, i hope everyone is doing well.i have a...  \n",
       "891  i tried to build my react native app to an apk...  \n",
       "797  It seems like it helps teach integrating js wi...  "
      ]
     },
     "execution_count": 46,
     "metadata": {},
     "output_type": "execute_result"
    }
   ],
   "source": [
    "# Show potential career-related questions\n",
    "career_keywords = ['career', 'job', 'intern', 'resume', 'interview', 'linkedin']\n",
    "career_candidates = threads_df[\n",
    "    threads_df['question'].str.contains('|'.join(career_keywords), case=False, na=False)\n",
    "][['thread_id', 'title', 'question']]\n",
    "\n",
    "career_candidates = career_candidates.sample(15, random_state=1)\n",
    "career_candidates"
   ]
  },
  {
   "cell_type": "markdown",
   "id": "7c0ee35a",
   "metadata": {},
   "source": [
    "### Search for likely Resource Request questions"
   ]
  },
  {
   "cell_type": "code",
   "execution_count": 47,
   "id": "1914d636",
   "metadata": {},
   "outputs": [
    {
     "data": {
      "text/html": [
       "<div>\n",
       "<style scoped>\n",
       "    .dataframe tbody tr th:only-of-type {\n",
       "        vertical-align: middle;\n",
       "    }\n",
       "\n",
       "    .dataframe tbody tr th {\n",
       "        vertical-align: top;\n",
       "    }\n",
       "\n",
       "    .dataframe thead th {\n",
       "        text-align: right;\n",
       "    }\n",
       "</style>\n",
       "<table border=\"1\" class=\"dataframe\">\n",
       "  <thead>\n",
       "    <tr style=\"text-align: right;\">\n",
       "      <th></th>\n",
       "      <th>thread_id</th>\n",
       "      <th>title</th>\n",
       "      <th>question</th>\n",
       "    </tr>\n",
       "  </thead>\n",
       "  <tbody>\n",
       "    <tr>\n",
       "      <th>556</th>\n",
       "      <td>19</td>\n",
       "      <td>what learning platform is better?</td>\n",
       "      <td>guys what platform do you recommend for taking...</td>\n",
       "    </tr>\n",
       "    <tr>\n",
       "      <th>173</th>\n",
       "      <td>578</td>\n",
       "      <td>How to: mindmap like graph board design in Rea...</td>\n",
       "      <td>Hello everyone. At where work, I'm asked add a...</td>\n",
       "    </tr>\n",
       "    <tr>\n",
       "      <th>364</th>\n",
       "      <td>172</td>\n",
       "      <td>the mystery of the disappearing text (Or is my...</td>\n",
       "      <td>I'm working on a calculator project [Live link...</td>\n",
       "    </tr>\n",
       "    <tr>\n",
       "      <th>68</th>\n",
       "      <td>187</td>\n",
       "      <td>Error when combining NodeJS and HTML</td>\n",
       "      <td>So I was making a simple clicker game. Here is...</td>\n",
       "    </tr>\n",
       "    <tr>\n",
       "      <th>480</th>\n",
       "      <td>504</td>\n",
       "      <td>Product Landing Page - Clipping, overflow, and...</td>\n",
       "      <td>Ive been having some CSS issues on my product ...</td>\n",
       "    </tr>\n",
       "    <tr>\n",
       "      <th>605</th>\n",
       "      <td>158</td>\n",
       "      <td>What should I do next? React developer in need...</td>\n",
       "      <td>I have been self teaching javascript, html, cs...</td>\n",
       "    </tr>\n",
       "    <tr>\n",
       "      <th>398</th>\n",
       "      <td>264</td>\n",
       "      <td>can i use base ui with material ui and system ...</td>\n",
       "      <td>I wanted to use material UI for my next app wi...</td>\n",
       "    </tr>\n",
       "    <tr>\n",
       "      <th>74</th>\n",
       "      <td>201</td>\n",
       "      <td>Step 49 Learn Typography by Building a Nutriti...</td>\n",
       "      <td>&lt;!DOCTYPE html&gt;&lt;html lang=\"en\"&gt;&lt;head&gt; &lt;meta ch...</td>\n",
       "    </tr>\n",
       "    <tr>\n",
       "      <th>759</th>\n",
       "      <td>582</td>\n",
       "      <td>why this scroll outlook is not fully functioning?</td>\n",
       "      <td>i am trying to have a dropdown menu using divs...</td>\n",
       "    </tr>\n",
       "    <tr>\n",
       "      <th>22</th>\n",
       "      <td>49</td>\n",
       "      <td>Bussiness card problem</td>\n",
       "      <td>&lt;!DOCTYPE html&gt;&lt;html lang=\"en\"&gt;&lt;head&gt; &lt;meta ch...</td>\n",
       "    </tr>\n",
       "    <tr>\n",
       "      <th>1043</th>\n",
       "      <td>363</td>\n",
       "      <td>Looking for a learning partner</td>\n",
       "      <td>Hope you are doing well. My name is Jay and I'...</td>\n",
       "    </tr>\n",
       "    <tr>\n",
       "      <th>400</th>\n",
       "      <td>269</td>\n",
       "      <td>Can't preload fonts on Mobile, but it works on...</td>\n",
       "      <td>I have been trying for the past few hours to f...</td>\n",
       "    </tr>\n",
       "    <tr>\n",
       "      <th>188</th>\n",
       "      <td>501</td>\n",
       "      <td>Return response from Webpage</td>\n",
       "      <td>So i have a webpage and backend i am using fas...</td>\n",
       "    </tr>\n",
       "    <tr>\n",
       "      <th>255</th>\n",
       "      <td>705</td>\n",
       "      <td>Div height and width are not working in my cod...</td>\n",
       "      <td>&lt;!DOCTYPE html&gt;&lt;html lang=\"en\"&gt; &lt;head&gt; &lt;meta c...</td>\n",
       "    </tr>\n",
       "    <tr>\n",
       "      <th>306</th>\n",
       "      <td>14</td>\n",
       "      <td>Inserting a background-image from my computer ...</td>\n",
       "      <td>In order to use a picture on a website, the im...</td>\n",
       "    </tr>\n",
       "  </tbody>\n",
       "</table>\n",
       "</div>"
      ],
      "text/plain": [
       "      thread_id                                              title  \\\n",
       "556          19                  what learning platform is better?   \n",
       "173         578  How to: mindmap like graph board design in Rea...   \n",
       "364         172  the mystery of the disappearing text (Or is my...   \n",
       "68          187               Error when combining NodeJS and HTML   \n",
       "480         504  Product Landing Page - Clipping, overflow, and...   \n",
       "605         158  What should I do next? React developer in need...   \n",
       "398         264  can i use base ui with material ui and system ...   \n",
       "74          201  Step 49 Learn Typography by Building a Nutriti...   \n",
       "759         582  why this scroll outlook is not fully functioning?   \n",
       "22           49                             Bussiness card problem   \n",
       "1043        363                     Looking for a learning partner   \n",
       "400         269  Can't preload fonts on Mobile, but it works on...   \n",
       "188         501                       Return response from Webpage   \n",
       "255         705  Div height and width are not working in my cod...   \n",
       "306          14  Inserting a background-image from my computer ...   \n",
       "\n",
       "                                               question  \n",
       "556   guys what platform do you recommend for taking...  \n",
       "173   Hello everyone. At where work, I'm asked add a...  \n",
       "364   I'm working on a calculator project [Live link...  \n",
       "68    So I was making a simple clicker game. Here is...  \n",
       "480   Ive been having some CSS issues on my product ...  \n",
       "605   I have been self teaching javascript, html, cs...  \n",
       "398   I wanted to use material UI for my next app wi...  \n",
       "74    <!DOCTYPE html><html lang=\"en\"><head> <meta ch...  \n",
       "759   i am trying to have a dropdown menu using divs...  \n",
       "22    <!DOCTYPE html><html lang=\"en\"><head> <meta ch...  \n",
       "1043  Hope you are doing well. My name is Jay and I'...  \n",
       "400   I have been trying for the past few hours to f...  \n",
       "188   So i have a webpage and backend i am using fas...  \n",
       "255   <!DOCTYPE html><html lang=\"en\"> <head> <meta c...  \n",
       "306   In order to use a picture on a website, the im...  "
      ]
     },
     "execution_count": 47,
     "metadata": {},
     "output_type": "execute_result"
    }
   ],
   "source": [
    "# Show potential resource-related questions\n",
    "resource_keywords = ['resource', 'link', 'site', 'tutorial', 'course', 'docs', 'documentation']\n",
    "resource_candidates = threads_df[\n",
    "    threads_df['question'].str.contains('|'.join(resource_keywords), case=False, na=False)\n",
    "][['thread_id', 'title', 'question']]\n",
    "\n",
    "resource_candidates = resource_candidates.sample(15, random_state=2)\n",
    "resource_candidates"
   ]
  },
  {
   "cell_type": "markdown",
   "id": "f942b4aa",
   "metadata": {},
   "source": [
    "### Add Career/Resource Candidates to Labeling CSV"
   ]
  },
  {
   "cell_type": "code",
   "execution_count": 48,
   "id": "4b4bc0ba",
   "metadata": {},
   "outputs": [],
   "source": [
    "# Add a new column for manual labeling\n",
    "career_candidates = career_candidates.drop(columns=['label'], errors='ignore')\n",
    "resource_candidates = resource_candidates.drop(columns=['label'], errors='ignore')\n",
    "career_candidates['category'] = ''\n",
    "resource_candidates['category'] = ''\n",
    "\n",
    "# Load existing questions to label\n",
    "existing = pd.read_csv(\"../data/manual_labels/questions_to_label.csv\")\n",
    "\n",
    "# Concatenate\n",
    "combined = pd.concat([existing, career_candidates, resource_candidates], ignore_index=True)\n",
    "\n",
    "# Save back\n",
    "combined.to_csv(\"../data/manual_labels/questions_to_label.csv\", index=False)"
   ]
  },
  {
   "cell_type": "markdown",
   "id": "dab0d56e",
   "metadata": {},
   "source": [
    "### Load and merge labeled data"
   ]
  },
  {
   "cell_type": "code",
   "execution_count": 49,
   "id": "b89236b1",
   "metadata": {},
   "outputs": [
    {
     "name": "stdout",
     "output_type": "stream",
     "text": [
      "Labels shape: (280, 4)\n"
     ]
    },
    {
     "data": {
      "text/html": [
       "<div>\n",
       "<style scoped>\n",
       "    .dataframe tbody tr th:only-of-type {\n",
       "        vertical-align: middle;\n",
       "    }\n",
       "\n",
       "    .dataframe tbody tr th {\n",
       "        vertical-align: top;\n",
       "    }\n",
       "\n",
       "    .dataframe thead th {\n",
       "        text-align: right;\n",
       "    }\n",
       "</style>\n",
       "<table border=\"1\" class=\"dataframe\">\n",
       "  <thead>\n",
       "    <tr style=\"text-align: right;\">\n",
       "      <th></th>\n",
       "      <th>thread_id</th>\n",
       "      <th>title</th>\n",
       "      <th>question</th>\n",
       "      <th>category</th>\n",
       "    </tr>\n",
       "  </thead>\n",
       "  <tbody>\n",
       "    <tr>\n",
       "      <th>0</th>\n",
       "      <td>80.0</td>\n",
       "      <td>Need Assistance for my data selector for my Nu...</td>\n",
       "      <td>Hello, I'm having issues with the date selecto...</td>\n",
       "      <td>Bug Help</td>\n",
       "    </tr>\n",
       "    <tr>\n",
       "      <th>1</th>\n",
       "      <td>298.0</td>\n",
       "      <td>Learn Form Validation - Step 14</td>\n",
       "      <td>const calorieCounter = getElementById(\"calorie...</td>\n",
       "      <td>Code Review</td>\n",
       "    </tr>\n",
       "    <tr>\n",
       "      <th>2</th>\n",
       "      <td>668.0</td>\n",
       "      <td>Need help with a project from github</td>\n",
       "      <td>Good afternoon programmers/Devs I just recentl...</td>\n",
       "      <td>Bug Help</td>\n",
       "    </tr>\n",
       "    <tr>\n",
       "      <th>3</th>\n",
       "      <td>67.0</td>\n",
       "      <td>Help with Tetris Neural Network</td>\n",
       "      <td>my Tetris AI to compete against user.how does ...</td>\n",
       "      <td>Learning Question</td>\n",
       "    </tr>\n",
       "    <tr>\n",
       "      <th>4</th>\n",
       "      <td>664.0</td>\n",
       "      <td>react component purity</td>\n",
       "      <td>The react documentation says that react compon...</td>\n",
       "      <td>Learning Question</td>\n",
       "    </tr>\n",
       "  </tbody>\n",
       "</table>\n",
       "</div>"
      ],
      "text/plain": [
       "   thread_id                                              title  \\\n",
       "0       80.0  Need Assistance for my data selector for my Nu...   \n",
       "1      298.0                    Learn Form Validation - Step 14   \n",
       "2      668.0               Need help with a project from github   \n",
       "3       67.0                    Help with Tetris Neural Network   \n",
       "4      664.0                             react component purity   \n",
       "\n",
       "                                            question           category  \n",
       "0  Hello, I'm having issues with the date selecto...           Bug Help  \n",
       "1  const calorieCounter = getElementById(\"calorie...        Code Review  \n",
       "2  Good afternoon programmers/Devs I just recentl...           Bug Help  \n",
       "3  my Tetris AI to compete against user.how does ...  Learning Question  \n",
       "4  The react documentation says that react compon...  Learning Question  "
      ]
     },
     "execution_count": 49,
     "metadata": {},
     "output_type": "execute_result"
    }
   ],
   "source": [
    "# Load labeled questions\n",
    "labels_df = pd.read_csv(\"../data/manual_labels/questions_to_label.csv\")\n",
    "\n",
    "# Sanity check\n",
    "print(\"Labels shape:\", labels_df.shape)\n",
    "labels_df.head()"
   ]
  },
  {
   "cell_type": "code",
   "execution_count": 50,
   "id": "90ce19c2",
   "metadata": {},
   "outputs": [
    {
     "name": "stdout",
     "output_type": "stream",
     "text": [
      "Merged labeled data shape: (522, 5)\n"
     ]
    },
    {
     "data": {
      "text/html": [
       "<div>\n",
       "<style scoped>\n",
       "    .dataframe tbody tr th:only-of-type {\n",
       "        vertical-align: middle;\n",
       "    }\n",
       "\n",
       "    .dataframe tbody tr th {\n",
       "        vertical-align: top;\n",
       "    }\n",
       "\n",
       "    .dataframe thead th {\n",
       "        text-align: right;\n",
       "    }\n",
       "</style>\n",
       "<table border=\"1\" class=\"dataframe\">\n",
       "  <thead>\n",
       "    <tr style=\"text-align: right;\">\n",
       "      <th></th>\n",
       "      <th>thread_id</th>\n",
       "      <th>category</th>\n",
       "      <th>lemma_text</th>\n",
       "    </tr>\n",
       "  </thead>\n",
       "  <tbody>\n",
       "    <tr>\n",
       "      <th>0</th>\n",
       "      <td>80.0</td>\n",
       "      <td>Bug Help</td>\n",
       "      <td>hello im issue date selector project currently...</td>\n",
       "    </tr>\n",
       "    <tr>\n",
       "      <th>1</th>\n",
       "      <td>80.0</td>\n",
       "      <td>Bug Help</td>\n",
       "      <td>hey trying build navbar get issue background c...</td>\n",
       "    </tr>\n",
       "    <tr>\n",
       "      <th>2</th>\n",
       "      <td>80.0</td>\n",
       "      <td>Bug Help</td>\n",
       "      <td>attempting host website github page made react...</td>\n",
       "    </tr>\n",
       "    <tr>\n",
       "      <th>3</th>\n",
       "      <td>298.0</td>\n",
       "      <td>Code Review</td>\n",
       "      <td>const caloriecounter getelementbyidcaloriecounter</td>\n",
       "    </tr>\n",
       "    <tr>\n",
       "      <th>4</th>\n",
       "      <td>668.0</td>\n",
       "      <td>Bug Help</td>\n",
       "      <td>anyone get incorrect asked time forum</td>\n",
       "    </tr>\n",
       "  </tbody>\n",
       "</table>\n",
       "</div>"
      ],
      "text/plain": [
       "   thread_id     category                                         lemma_text\n",
       "0       80.0     Bug Help  hello im issue date selector project currently...\n",
       "1       80.0     Bug Help  hey trying build navbar get issue background c...\n",
       "2       80.0     Bug Help  attempting host website github page made react...\n",
       "3      298.0  Code Review  const caloriecounter getelementbyidcaloriecounter\n",
       "4      668.0     Bug Help              anyone get incorrect asked time forum"
      ]
     },
     "execution_count": 50,
     "metadata": {},
     "output_type": "execute_result"
    }
   ],
   "source": [
    "# Merge with threads_df to get preprocessed text (lemma_text)\n",
    "labeled_df = labels_df.merge(threads_df[[\"thread_id\", \"lemma_text\"]], on=\"thread_id\")\n",
    "\n",
    "# Final shape check\n",
    "print(\"Merged labeled data shape:\", labeled_df.shape)\n",
    "labeled_df[[\"thread_id\", \"category\", \"lemma_text\"]].head()"
   ]
  },
  {
   "cell_type": "markdown",
   "id": "ce4f87aa",
   "metadata": {},
   "source": [
    "### TF-IDF vectorization of lemma_text"
   ]
  },
  {
   "cell_type": "code",
   "execution_count": 51,
   "id": "ba80c9a0",
   "metadata": {},
   "outputs": [
    {
     "name": "stdout",
     "output_type": "stream",
     "text": [
      "TF-IDF matrix shape: (522, 3000)\n"
     ]
    }
   ],
   "source": [
    "# TF-IDF vectorizer setup (same config)\n",
    "tfidf = TfidfVectorizer(ngram_range=(1, 2), max_features=3000)\n",
    "\n",
    "# Fit and transform\n",
    "X = tfidf.fit_transform(labeled_df[\"lemma_text\"])\n",
    "\n",
    "# Check shape\n",
    "print(\"TF-IDF matrix shape:\", X.shape)"
   ]
  },
  {
   "cell_type": "markdown",
   "id": "39bd7b1d",
   "metadata": {},
   "source": [
    "### Encode target labels"
   ]
  },
  {
   "cell_type": "code",
   "execution_count": 52,
   "id": "edcd6a89",
   "metadata": {},
   "outputs": [
    {
     "name": "stdout",
     "output_type": "stream",
     "text": [
      "Label mapping: {'Bug Help': np.int64(0), 'Career Advice': np.int64(1), 'Code Review': np.int64(2), 'General Discussion': np.int64(3), 'Learning Question': np.int64(4), 'Resource Request': np.int64(5)}\n"
     ]
    }
   ],
   "source": [
    "from sklearn.preprocessing import LabelEncoder\n",
    "\n",
    "# Label encode the category\n",
    "le = LabelEncoder()\n",
    "y = le.fit_transform(labeled_df[\"category\"])\n",
    "\n",
    "# Show label mapping\n",
    "label_mapping = dict(zip(le.classes_, le.transform(le.classes_)))\n",
    "print(\"Label mapping:\", label_mapping)"
   ]
  },
  {
   "cell_type": "markdown",
   "id": "78399d64",
   "metadata": {},
   "source": [
    "### Train/Test Split & Naive Bayes Model"
   ]
  },
  {
   "cell_type": "code",
   "execution_count": 56,
   "id": "52951ef3",
   "metadata": {},
   "outputs": [
    {
     "name": "stdout",
     "output_type": "stream",
     "text": [
      "Classification Report:\n",
      "                     precision    recall  f1-score   support\n",
      "\n",
      "          Bug Help       0.39      0.83      0.54        36\n",
      "     Career Advice       0.00      0.00      0.00         8\n",
      "       Code Review       0.00      0.00      0.00         2\n",
      "General Discussion       0.38      0.33      0.36        30\n",
      " Learning Question       0.00      0.00      0.00        17\n",
      "  Resource Request       1.00      0.17      0.29        12\n",
      "\n",
      "          accuracy                           0.40       105\n",
      "         macro avg       0.30      0.22      0.20       105\n",
      "      weighted avg       0.36      0.40      0.32       105\n",
      "\n",
      "Confusion Matrix:\n",
      " [[30  0  0  6  0  0]\n",
      " [ 6  0  0  2  0  0]\n",
      " [ 2  0  0  0  0  0]\n",
      " [20  0  0 10  0  0]\n",
      " [11  0  0  6  0  0]\n",
      " [ 7  0  0  2  1  2]]\n"
     ]
    },
    {
     "name": "stderr",
     "output_type": "stream",
     "text": [
      "c:\\Users\\MSI\\Desktop\\PROJECTS\\PFA\\venv\\Lib\\site-packages\\sklearn\\metrics\\_classification.py:1565: UndefinedMetricWarning: Precision is ill-defined and being set to 0.0 in labels with no predicted samples. Use `zero_division` parameter to control this behavior.\n",
      "  _warn_prf(average, modifier, f\"{metric.capitalize()} is\", len(result))\n",
      "c:\\Users\\MSI\\Desktop\\PROJECTS\\PFA\\venv\\Lib\\site-packages\\sklearn\\metrics\\_classification.py:1565: UndefinedMetricWarning: Precision is ill-defined and being set to 0.0 in labels with no predicted samples. Use `zero_division` parameter to control this behavior.\n",
      "  _warn_prf(average, modifier, f\"{metric.capitalize()} is\", len(result))\n",
      "c:\\Users\\MSI\\Desktop\\PROJECTS\\PFA\\venv\\Lib\\site-packages\\sklearn\\metrics\\_classification.py:1565: UndefinedMetricWarning: Precision is ill-defined and being set to 0.0 in labels with no predicted samples. Use `zero_division` parameter to control this behavior.\n",
      "  _warn_prf(average, modifier, f\"{metric.capitalize()} is\", len(result))\n"
     ]
    }
   ],
   "source": [
    "from sklearn.model_selection import train_test_split\n",
    "from sklearn.naive_bayes import MultinomialNB\n",
    "from sklearn.metrics import classification_report, confusion_matrix\n",
    "\n",
    "# Split the data (stratify to preserve class distribution)\n",
    "X_train, X_test, y_train, y_test = train_test_split(\n",
    "    X, y, test_size=0.2, stratify=y, random_state=42\n",
    ")\n",
    "\n",
    "# Train Naive Bayes classifier\n",
    "nb_model = MultinomialNB()\n",
    "nb_model.fit(X_train, y_train)\n",
    "\n",
    "# Predict on test set\n",
    "y_pred = nb_model.predict(X_test)\n",
    "\n",
    "# Evaluation\n",
    "print(\"Classification Report:\\n\", classification_report(y_test, y_pred, target_names=le.classes_))\n",
    "print(\"Confusion Matrix:\\n\", confusion_matrix(y_test, y_pred))"
   ]
  },
  {
   "cell_type": "markdown",
   "id": "30aa5e7d",
   "metadata": {},
   "source": [
    "### Train & Evaluate SVM + Random Forest"
   ]
  },
  {
   "cell_type": "code",
   "execution_count": 57,
   "id": "ee2b9551",
   "metadata": {},
   "outputs": [
    {
     "name": "stdout",
     "output_type": "stream",
     "text": [
      "\n",
      "SVM Classification Report:\n",
      "\n",
      "                    precision    recall  f1-score   support\n",
      "\n",
      "          Bug Help       0.38      0.42      0.40        36\n",
      "     Career Advice       0.33      0.25      0.29         8\n",
      "       Code Review       0.00      0.00      0.00         2\n",
      "General Discussion       0.37      0.50      0.42        30\n",
      " Learning Question       0.00      0.00      0.00        17\n",
      "  Resource Request       0.40      0.33      0.36        12\n",
      "\n",
      "          accuracy                           0.34       105\n",
      "         macro avg       0.25      0.25      0.25       105\n",
      "      weighted avg       0.31      0.34      0.32       105\n",
      "\n",
      "Confusion Matrix:\n",
      "\n",
      "[[15  2  0 13  2  4]\n",
      " [ 3  2  1  0  2  0]\n",
      " [ 2  0  0  0  0  0]\n",
      " [ 9  1  0 15  3  2]\n",
      " [ 7  1  0  9  0  0]\n",
      " [ 3  0  0  4  1  4]]\n",
      "\n",
      "Random Forest Classification Report:\n",
      "\n",
      "                    precision    recall  f1-score   support\n",
      "\n",
      "          Bug Help       0.49      0.56      0.52        36\n",
      "     Career Advice       0.25      0.25      0.25         8\n",
      "       Code Review       0.00      0.00      0.00         2\n",
      "General Discussion       0.42      0.57      0.49        30\n",
      " Learning Question       0.00      0.00      0.00        17\n",
      "  Resource Request       0.44      0.33      0.38        12\n",
      "\n",
      "          accuracy                           0.41       105\n",
      "         macro avg       0.27      0.28      0.27       105\n",
      "      weighted avg       0.36      0.41      0.38       105\n",
      "\n",
      "Confusion Matrix:\n",
      "\n",
      "[[20  3  0 10  1  2]\n",
      " [ 3  2  1  1  1  0]\n",
      " [ 2  0  0  0  0  0]\n",
      " [ 7  2  0 17  3  1]\n",
      " [ 5  1  0  9  0  2]\n",
      " [ 4  0  0  3  1  4]]\n"
     ]
    }
   ],
   "source": [
    "from sklearn.svm import LinearSVC\n",
    "from sklearn.ensemble import RandomForestClassifier\n",
    "from sklearn.metrics import classification_report, confusion_matrix\n",
    "\n",
    "# Utility function to train and evaluate models\n",
    "def evaluate_model(name, model, X_train, X_test, y_train, y_test):\n",
    "    model.fit(X_train, y_train)\n",
    "    y_pred = model.predict(X_test)\n",
    "\n",
    "    print(f\"\\n{name} Classification Report:\\n\")\n",
    "    print(classification_report(y_test, y_pred, target_names=le.classes_))\n",
    "\n",
    "    print(\"Confusion Matrix:\\n\")\n",
    "    print(confusion_matrix(y_test, y_pred))\n",
    "\n",
    "# Train/test split\n",
    "from sklearn.model_selection import train_test_split\n",
    "X_train, X_test, y_train, y_test = train_test_split(\n",
    "    X, y, test_size=0.2, stratify=y, random_state=42\n",
    ")\n",
    "\n",
    "# Evaluate SVM\n",
    "svm_model = LinearSVC()\n",
    "evaluate_model(\"SVM\", svm_model, X_train, X_test, y_train, y_test)\n",
    "\n",
    "# Evaluate Random Forest\n",
    "rf_model = RandomForestClassifier(n_estimators=100, random_state=42)\n",
    "evaluate_model(\"Random Forest\", rf_model, X_train, X_test, y_train, y_test)"
   ]
  },
  {
   "cell_type": "markdown",
   "id": "d76dc803",
   "metadata": {},
   "source": [
    "### Category Distribution Visualization"
   ]
  },
  {
   "cell_type": "code",
   "execution_count": 58,
   "id": "a37e1a02",
   "metadata": {},
   "outputs": [
    {
     "data": {
      "image/png": "[encoded data removed]",
      "text/plain": [
       "<Figure size 800x500 with 1 Axes>"
      ]
     },
     "metadata": {},
     "output_type": "display_data"
    },
    {
     "data": {
      "image/png": "[encoded data removed]",
      "text/plain": [
       "<Figure size 800x500 with 1 Axes>"
      ]
     },
     "metadata": {},
     "output_type": "display_data"
    },
    {
     "data": {
      "image/png": "[encoded data removed]",
      "text/plain": [
       "<Figure size 800x500 with 1 Axes>"
      ]
     },
     "metadata": {},
     "output_type": "display_data"
    }
   ],
   "source": [
    "import matplotlib.pyplot as plt\n",
    "import seaborn as sns\n",
    "import numpy as np\n",
    "\n",
    "# Store predicted labels for each model\n",
    "nb_preds = nb_model.predict(X_test)\n",
    "svm_preds = svm_model.predict(X_test)\n",
    "rf_preds = rf_model.predict(X_test)\n",
    "\n",
    "# Reverse the label encoder to get original category names\n",
    "def decode_preds(preds): return [le.classes_[i] for i in preds]\n",
    "\n",
    "# Plotting function\n",
    "def plot_pred_dist(preds, title):\n",
    "    decoded = decode_preds(preds)\n",
    "    plt.figure(figsize=(8, 5))\n",
    "    sns.countplot(x=decoded, order=le.classes_)\n",
    "    plt.title(title)\n",
    "    plt.xlabel(\"Category\")\n",
    "    plt.ylabel(\"Count\")\n",
    "    plt.xticks(rotation=30)\n",
    "    plt.tight_layout()\n",
    "    plt.show()\n",
    "\n",
    "# Plot each model's predictions\n",
    "plot_pred_dist(nb_preds, \"Naive Bayes - Predicted Category Distribution\")\n",
    "plot_pred_dist(svm_preds, \"SVM - Predicted Category Distribution\")\n",
    "plot_pred_dist(rf_preds, \"Random Forest - Predicted Category Distribution\")"
   ]
  }
 ],
 "metadata": {
  "kernelspec": {
   "display_name": "venv",
   "language": "python",
   "name": "python3"
  },
  "language_info": {
   "codemirror_mode": {
    "name": "ipython",
    "version": 3
   },
   "file_extension": ".py",
   "mimetype": "text/x-python",
   "name": "python",
   "nbconvert_exporter": "python",
   "pygments_lexer": "ipython3",
   "version": "3.12.10"
  }
 },
 "nbformat": 4,
 "nbformat_minor": 5
}
